{
 "cells": [
  {
   "cell_type": "code",
   "id": "initial_id",
   "metadata": {
    "collapsed": true,
    "ExecuteTime": {
     "end_time": "2025-03-17T15:08:52.552959Z",
     "start_time": "2025-03-17T15:08:49.118740Z"
    }
   },
   "source": [
    "import pandas as pd\n",
    "import numpy as np\n",
    "import matplotlib.pyplot as plt\n",
    "import seaborn as sns\n",
    "import torch\n",
    "from tqdm.notebook import tqdm\n",
    "import torchtext\n",
    "import torchdata\n",
    "import keras\n",
    "import tensorflow"
   ],
   "outputs": [
    {
     "name": "stderr",
     "output_type": "stream",
     "text": [
      "/Users/maksimkuznetsov/Documents/Учёба/w2v/.venv/lib/python3.9/site-packages/urllib3/__init__.py:35: NotOpenSSLWarning: urllib3 v2 only supports OpenSSL 1.1.1+, currently the 'ssl' module is compiled with 'LibreSSL 2.8.3'. See: https://github.com/urllib3/urllib3/issues/3020\n",
      "  warnings.warn(\n"
     ]
    }
   ],
   "execution_count": 1
  },
  {
   "metadata": {
    "ExecuteTime": {
     "end_time": "2025-03-17T15:10:07.665759Z",
     "start_time": "2025-03-17T15:10:07.643671Z"
    }
   },
   "cell_type": "code",
   "source": "from tensorflow.keras.datasets import imdb",
   "id": "ade3d4d49d62719b",
   "outputs": [],
   "execution_count": 10
  },
  {
   "metadata": {
    "ExecuteTime": {
     "end_time": "2025-03-17T18:55:45.696579Z",
     "start_time": "2025-03-17T18:55:41.314568Z"
    }
   },
   "cell_type": "code",
   "source": [
    "(training_data, training_targets), (testing_data, testing_targets) = imdb.load_data(num_words=10000)\n",
    "\n",
    "# Получение словаря слов\n",
    "word_index = imdb.get_word_index()\n",
    "\n",
    "(training_data, training_targets), (testing_data, testing_targets) = imdb.load_data()\n",
    "\n",
    "word_index = imdb.get_word_index()\n",
    "\n",
    "start_char = 1\n",
    "oov_char = 2\n",
    "index_from = 3\n",
    "\n",
    "inverted_word_index = dict(\n",
    "    (i + index_from, word) for (word, i) in word_index.items()\n",
    ")\n",
    "\n",
    "inverted_word_index[start_char] = \"[START]\"\n",
    "inverted_word_index[oov_char] = \"[OOV]\"\n",
    "\n",
    "train_set = np.array([\" \".join(inverted_word_index[i] for i in item) for item in training_data])\n",
    "test_set = np.array([\" \".join(inverted_word_index[i] for i in item) for item in testing_data])\n",
    "                     \n",
    "print(train_set.shape, test_set.shape)"
   ],
   "id": "9b83949224c2bf5c",
   "outputs": [
    {
     "name": "stdout",
     "output_type": "stream",
     "text": [
      "(25000,) (25000,)\n"
     ]
    }
   ],
   "execution_count": 19
  },
  {
   "metadata": {
    "ExecuteTime": {
     "end_time": "2025-03-17T15:20:04.401824Z",
     "start_time": "2025-03-17T15:20:04.383666Z"
    }
   },
   "cell_type": "code",
   "source": "train_set",
   "id": "7108fb02f984d35a",
   "outputs": [
    {
     "data": {
      "text/plain": [
       "array([\"[START] this film was just brilliant casting location scenery story direction everyone's really suited the part they played and you could just imagine being there robert redford's is an amazing actor and now the same being director norman's father came from the same scottish island as myself so i loved the fact there was a real connection with this film the witty remarks throughout the film were great it was just brilliant so much that i bought the film as soon as it was released for retail and would recommend it to everyone to watch and the fly fishing was amazing really cried at the end it was so sad and you know what they say if you cry at a film it must have been good and this definitely was also congratulations to the two little boy's that played the part's of norman and paul they were just brilliant children are often left out of the praising list i think because the stars that play them all grown up are such a big profile for the whole film but these children are amazing and should be praised for what they have done don't you think the whole story was so lovely because it was true and was someone's life after all that was shared with us all\",\n",
       "       \"[START] big hair big boobs bad music and a giant safety pin these are the words to best describe this terrible movie i love cheesy horror movies and i've seen hundreds but this had got to be on of the worst ever made the plot is paper thin and ridiculous the acting is an abomination the script is completely laughable the best is the end showdown with the cop and how he worked out who the killer is it's just so damn terribly written the clothes are sickening and funny in equal measures the hair is big lots of boobs bounce men wear those cut tee shirts that show off their stomachs sickening that men actually wore them and the music is just synthesiser trash that plays over and over again in almost every scene there is trashy music boobs and paramedics taking away bodies and the gym still doesn't close for bereavement all joking aside this is a truly bad film whose only charm is to look back on the disaster that was the 80's and have a good old laugh at how bad everything was back then\",\n",
       "       \"[START] this has to be one of the worst films of the 1990s when my friends i were watching this film being the target audience it was aimed at we just sat watched the first half an hour with our jaws touching the floor at how bad it really was the rest of the time everyone else in the theatre just started talking to each other leaving or generally crying into their popcorn that they actually paid money they had earnt working to watch this feeble excuse for a film it must have looked like a great idea on paper but on film it looks like no one in the film has a clue what is going on crap acting crap costumes i can't get across how embarrasing this is to watch save yourself an hour a bit of your life\",\n",
       "       ...,\n",
       "       \"[START] in a far away galaxy is a planet called ceta it's native people worship cats but the dog people wage war upon these feline loving people and they have no choice but to go to earth and grind people up for food this is one of the stupidest f k ng ideas for a movie i've seen leave it to ted mikels to make a movie more incompetent than the already low standard he set in previous films it's like he enjoying playing in a celluloid game of limbo how low can he go the only losers in the scenario are us the viewer mr mikels and his silly little handlebar mustache actually has people who still buy this crap br br my grade f br br dvd extras commentary by ted mikels the story behind the making of 9 and a half minutes 17 minutes 15 seconds of behind the scenes footage ted mikels filmography and trailers for the worm eaters girl in gold boots the doll squad ten violent women featuring nudity blood orgy of the she devils the corpse grinders\",\n",
       "       \"[START] six degrees had me hooked i looked forward to it coming on and was totally disappointed when men in trees replaced it's time spot i thought it was just on hiatus and would be back early in 2007 what happened all my friends were really surprised it ended we could relate to the characters who had real problems we talked about each episode and had our favorite characters there wasn't anybody on the show i didn't like and felt the acting was superb i alway like seeing programs being taped in cities where you can identify the local areas i for one would like to protest the canceling of this show and ask you to bring it back and give it another chance give it a good time slot don't keep moving it from this day to that day and advertise it so people will know it is on\",\n",
       "       \"[START] as a big fan of the original film it's hard to watch this show the garish set decor and harshly lighted sets rob any style from this remake the mood is never there instead it has the look and feel of so many television movies of the seventies crenna is not a bad choice as walter neff but his snappy wardrobe and swank apartment don't fit the mood of the original or make him an interesting character he does his best to make it work but samantha egger is a really bad choice the english accent and california looks can't hold a candle to barbara stanwick's velvet voice and sex appeal lee j cobb tries mightily to fashion barton keyes but even his performance is just gruff without style br br it feels like the tv movie it was and again reminds me of what a remarkable film the original still is\"],\n",
       "      dtype='<U13411')"
      ]
     },
     "execution_count": 13,
     "metadata": {},
     "output_type": "execute_result"
    }
   ],
   "execution_count": 13
  },
  {
   "metadata": {
    "ExecuteTime": {
     "end_time": "2025-03-17T18:58:37.627795Z",
     "start_time": "2025-03-17T18:58:37.620870Z"
    }
   },
   "cell_type": "code",
   "source": [
    "import nltk\n",
    "from nltk.corpus import stopwords\n",
    "from nltk.tokenize import word_tokenize\n",
    "from nltk.stem import WordNetLemmatizer\n",
    "nltk.download('stopwords')\n",
    "nltk.download('punkt')\n",
    "nltk.download('wordnet')\n",
    "nltk.download('omw-1.4')"
   ],
   "id": "a03f07cfbf2614d3",
   "outputs": [
    {
     "name": "stderr",
     "output_type": "stream",
     "text": [
      "[nltk_data] Downloading package stopwords to\n",
      "[nltk_data]     /Users/maksimkuznetsov/nltk_data...\n",
      "[nltk_data]   Package stopwords is already up-to-date!\n",
      "[nltk_data] Downloading package punkt to\n",
      "[nltk_data]     /Users/maksimkuznetsov/nltk_data...\n",
      "[nltk_data]   Package punkt is already up-to-date!\n",
      "[nltk_data] Downloading package wordnet to\n",
      "[nltk_data]     /Users/maksimkuznetsov/nltk_data...\n",
      "[nltk_data]   Package wordnet is already up-to-date!\n",
      "[nltk_data] Downloading package omw-1.4 to\n",
      "[nltk_data]     /Users/maksimkuznetsov/nltk_data...\n",
      "[nltk_data]   Package omw-1.4 is already up-to-date!\n"
     ]
    },
    {
     "data": {
      "text/plain": [
       "True"
      ]
     },
     "execution_count": 27,
     "metadata": {},
     "output_type": "execute_result"
    }
   ],
   "execution_count": 27
  },
  {
   "metadata": {
    "ExecuteTime": {
     "end_time": "2025-03-17T18:59:20.525152Z",
     "start_time": "2025-03-17T18:58:38.989779Z"
    }
   },
   "cell_type": "code",
   "source": [
    "stopwords = set(stopwords.words('english'))\n",
    "lemmatizer = WordNetLemmatizer()\n",
    "\n",
    "def preprocess_text(text):\n",
    "    text = list(filter(str.isalpha, word_tokenize(text.lower())))\n",
    "    text = list(lemmatizer.lemmatize(token) for token in text)\n",
    "    text = list(word for word in text if word not in stopwords)\n",
    "    return ' '.join(text)\n",
    "train_set_prepor = [preprocess_text(seq) for seq in train_set]\n",
    "test_set_prepor = [preprocess_text(seq) for seq in test_set]"
   ],
   "id": "5dc98350e962ec5e",
   "outputs": [],
   "execution_count": 28
  },
  {
   "metadata": {
    "ExecuteTime": {
     "end_time": "2025-03-17T19:00:05.403474Z",
     "start_time": "2025-03-17T19:00:05.400461Z"
    }
   },
   "cell_type": "code",
   "source": "train_set_prepor[100]",
   "id": "49ca2908084ef865",
   "outputs": [
    {
     "data": {
      "text/plain": [
       "'start great fan david lynch everything made dvd except hotel room hour twin peak movie found immediately grabbed bunch crudely drawn black white cartoon loud foul mouthed unfunny maybe know good maybe bunch crap wa foisted public name david lynch make buck let make clear care foul language part keep adjusting sound neighbor might highly disappointing release may well left deluxe box set curiosity highly recommend spend money'"
      ]
     },
     "execution_count": 30,
     "metadata": {},
     "output_type": "execute_result"
    }
   ],
   "execution_count": 30
  },
  {
   "metadata": {},
   "cell_type": "markdown",
   "source": "Напишем baseline с log_reg для дальнейшего сравнения ",
   "id": "4e8c29d7a9a1aed1"
  },
  {
   "metadata": {
    "ExecuteTime": {
     "end_time": "2025-03-17T19:07:13.642232Z",
     "start_time": "2025-03-17T19:07:13.638398Z"
    }
   },
   "cell_type": "code",
   "source": [
    "from sklearn.feature_extraction.text import TfidfVectorizer\n",
    "from sklearn.linear_model import LogisticRegression\n",
    "from sklearn.metrics import accuracy_score"
   ],
   "id": "b681c6b4e203178f",
   "outputs": [],
   "execution_count": 32
  },
  {
   "metadata": {
    "ExecuteTime": {
     "end_time": "2025-03-17T19:07:41.350576Z",
     "start_time": "2025-03-17T19:07:38.229727Z"
    }
   },
   "cell_type": "code",
   "source": [
    "tf_idf = TfidfVectorizer().fit(train_set_prepor)\n",
    "train_baseline = tf_idf.fit_transform(train_set_prepor)\n",
    "test_baseline = tf_idf.transform(test_set_prepor)"
   ],
   "id": "2dc5ff9cfcd45f03",
   "outputs": [],
   "execution_count": 34
  },
  {
   "metadata": {
    "ExecuteTime": {
     "end_time": "2025-03-17T19:12:50.686243Z",
     "start_time": "2025-03-17T19:12:49.453354Z"
    }
   },
   "cell_type": "code",
   "source": "log_reg = LogisticRegression(n_jobs=-1).fit(train_baseline, training_targets)",
   "id": "99c80a7fb846acd1",
   "outputs": [],
   "execution_count": 35
  },
  {
   "metadata": {
    "ExecuteTime": {
     "end_time": "2025-03-17T19:12:52.108105Z",
     "start_time": "2025-03-17T19:12:52.087442Z"
    }
   },
   "cell_type": "code",
   "source": [
    "print('Train acc: ', accuracy_score(training_targets, log_reg.predict(train_baseline)))\n",
    "print('Test acc: ', accuracy_score(testing_targets, log_reg.predict(test_baseline)))"
   ],
   "id": "b3d722ceb4747574",
   "outputs": [
    {
     "name": "stdout",
     "output_type": "stream",
     "text": [
      "Train acc:  0.93084\n",
      "Test acc:  0.88048\n"
     ]
    }
   ],
   "execution_count": 36
  }
 ],
 "metadata": {
  "kernelspec": {
   "display_name": "Python 3",
   "language": "python",
   "name": "python3"
  },
  "language_info": {
   "codemirror_mode": {
    "name": "ipython",
    "version": 2
   },
   "file_extension": ".py",
   "mimetype": "text/x-python",
   "name": "python",
   "nbconvert_exporter": "python",
   "pygments_lexer": "ipython2",
   "version": "2.7.6"
  }
 },
 "nbformat": 4,
 "nbformat_minor": 5
}
