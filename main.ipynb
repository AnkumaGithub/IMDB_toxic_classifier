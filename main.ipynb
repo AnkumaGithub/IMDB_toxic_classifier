{
 "cells": [
  {
   "cell_type": "code",
   "id": "initial_id",
   "metadata": {
    "collapsed": true,
    "ExecuteTime": {
     "end_time": "2025-03-18T16:08:31.745584Z",
     "start_time": "2025-03-18T16:08:31.730320Z"
    }
   },
   "source": [
    "import pandas as pd\n",
    "import numpy as np\n",
    "import matplotlib.pyplot as plt\n",
    "import seaborn as sns\n",
    "import torch\n",
    "from tqdm.notebook import tqdm\n",
    "import torchtext\n",
    "import torchdata\n",
    "import keras\n",
    "import tensorflow"
   ],
   "outputs": [],
   "execution_count": 66
  },
  {
   "metadata": {
    "ExecuteTime": {
     "end_time": "2025-03-18T16:08:32.837763Z",
     "start_time": "2025-03-18T16:08:32.835139Z"
    }
   },
   "cell_type": "code",
   "source": "from tensorflow.keras.datasets import imdb",
   "id": "ade3d4d49d62719b",
   "outputs": [],
   "execution_count": 67
  },
  {
   "metadata": {
    "ExecuteTime": {
     "end_time": "2025-03-18T16:08:38.538128Z",
     "start_time": "2025-03-18T16:08:33.883033Z"
    }
   },
   "cell_type": "code",
   "source": [
    "(training_data, training_targets), (testing_data, testing_targets) = imdb.load_data(num_words=10000)\n",
    "\n",
    "# Получение словаря слов\n",
    "word_index = imdb.get_word_index()\n",
    "\n",
    "(training_data, training_targets), (testing_data, testing_targets) = imdb.load_data()\n",
    "\n",
    "word_index = imdb.get_word_index()\n",
    "\n",
    "start_char = 1\n",
    "oov_char = 2\n",
    "index_from = 3\n",
    "\n",
    "inverted_word_index = dict(\n",
    "    (i + index_from, word) for (word, i) in word_index.items()\n",
    ")\n",
    "\n",
    "inverted_word_index[start_char] = \"[START]\"\n",
    "inverted_word_index[oov_char] = \"[OOV]\"\n",
    "\n",
    "train_set = np.array([\" \".join(inverted_word_index[i] for i in item) for item in training_data])\n",
    "test_set = np.array([\" \".join(inverted_word_index[i] for i in item) for item in testing_data])\n",
    "                     \n",
    "print(train_set.shape, test_set.shape)"
   ],
   "id": "9b83949224c2bf5c",
   "outputs": [
    {
     "name": "stdout",
     "output_type": "stream",
     "text": [
      "(25000,) (25000,)\n"
     ]
    }
   ],
   "execution_count": 68
  },
  {
   "metadata": {
    "ExecuteTime": {
     "end_time": "2025-03-17T15:20:04.401824Z",
     "start_time": "2025-03-17T15:20:04.383666Z"
    }
   },
   "cell_type": "code",
   "source": "train_set",
   "id": "7108fb02f984d35a",
   "outputs": [
    {
     "data": {
      "text/plain": [
       "array([\"[START] this film was just brilliant casting location scenery story direction everyone's really suited the part they played and you could just imagine being there robert redford's is an amazing actor and now the same being director norman's father came from the same scottish island as myself so i loved the fact there was a real connection with this film the witty remarks throughout the film were great it was just brilliant so much that i bought the film as soon as it was released for retail and would recommend it to everyone to watch and the fly fishing was amazing really cried at the end it was so sad and you know what they say if you cry at a film it must have been good and this definitely was also congratulations to the two little boy's that played the part's of norman and paul they were just brilliant children are often left out of the praising list i think because the stars that play them all grown up are such a big profile for the whole film but these children are amazing and should be praised for what they have done don't you think the whole story was so lovely because it was true and was someone's life after all that was shared with us all\",\n",
       "       \"[START] big hair big boobs bad music and a giant safety pin these are the words to best describe this terrible movie i love cheesy horror movies and i've seen hundreds but this had got to be on of the worst ever made the plot is paper thin and ridiculous the acting is an abomination the script is completely laughable the best is the end showdown with the cop and how he worked out who the killer is it's just so damn terribly written the clothes are sickening and funny in equal measures the hair is big lots of boobs bounce men wear those cut tee shirts that show off their stomachs sickening that men actually wore them and the music is just synthesiser trash that plays over and over again in almost every scene there is trashy music boobs and paramedics taking away bodies and the gym still doesn't close for bereavement all joking aside this is a truly bad film whose only charm is to look back on the disaster that was the 80's and have a good old laugh at how bad everything was back then\",\n",
       "       \"[START] this has to be one of the worst films of the 1990s when my friends i were watching this film being the target audience it was aimed at we just sat watched the first half an hour with our jaws touching the floor at how bad it really was the rest of the time everyone else in the theatre just started talking to each other leaving or generally crying into their popcorn that they actually paid money they had earnt working to watch this feeble excuse for a film it must have looked like a great idea on paper but on film it looks like no one in the film has a clue what is going on crap acting crap costumes i can't get across how embarrasing this is to watch save yourself an hour a bit of your life\",\n",
       "       ...,\n",
       "       \"[START] in a far away galaxy is a planet called ceta it's native people worship cats but the dog people wage war upon these feline loving people and they have no choice but to go to earth and grind people up for food this is one of the stupidest f k ng ideas for a movie i've seen leave it to ted mikels to make a movie more incompetent than the already low standard he set in previous films it's like he enjoying playing in a celluloid game of limbo how low can he go the only losers in the scenario are us the viewer mr mikels and his silly little handlebar mustache actually has people who still buy this crap br br my grade f br br dvd extras commentary by ted mikels the story behind the making of 9 and a half minutes 17 minutes 15 seconds of behind the scenes footage ted mikels filmography and trailers for the worm eaters girl in gold boots the doll squad ten violent women featuring nudity blood orgy of the she devils the corpse grinders\",\n",
       "       \"[START] six degrees had me hooked i looked forward to it coming on and was totally disappointed when men in trees replaced it's time spot i thought it was just on hiatus and would be back early in 2007 what happened all my friends were really surprised it ended we could relate to the characters who had real problems we talked about each episode and had our favorite characters there wasn't anybody on the show i didn't like and felt the acting was superb i alway like seeing programs being taped in cities where you can identify the local areas i for one would like to protest the canceling of this show and ask you to bring it back and give it another chance give it a good time slot don't keep moving it from this day to that day and advertise it so people will know it is on\",\n",
       "       \"[START] as a big fan of the original film it's hard to watch this show the garish set decor and harshly lighted sets rob any style from this remake the mood is never there instead it has the look and feel of so many television movies of the seventies crenna is not a bad choice as walter neff but his snappy wardrobe and swank apartment don't fit the mood of the original or make him an interesting character he does his best to make it work but samantha egger is a really bad choice the english accent and california looks can't hold a candle to barbara stanwick's velvet voice and sex appeal lee j cobb tries mightily to fashion barton keyes but even his performance is just gruff without style br br it feels like the tv movie it was and again reminds me of what a remarkable film the original still is\"],\n",
       "      dtype='<U13411')"
      ]
     },
     "execution_count": 13,
     "metadata": {},
     "output_type": "execute_result"
    }
   ],
   "execution_count": 13
  },
  {
   "metadata": {
    "ExecuteTime": {
     "end_time": "2025-03-18T16:10:13.910490Z",
     "start_time": "2025-03-18T16:10:13.511181Z"
    }
   },
   "cell_type": "code",
   "source": [
    "import nltk\n",
    "from nltk.corpus import stopwords\n",
    "from nltk.tokenize import word_tokenize\n",
    "from nltk.stem import WordNetLemmatizer\n",
    "nltk.download('stopwords')\n",
    "nltk.download('punkt')\n",
    "nltk.download('wordnet')\n",
    "nltk.download('omw-1.4')"
   ],
   "id": "a03f07cfbf2614d3",
   "outputs": [
    {
     "name": "stderr",
     "output_type": "stream",
     "text": [
      "[nltk_data] Downloading package stopwords to\n",
      "[nltk_data]     /Users/maksimkuznetsov/nltk_data...\n",
      "[nltk_data]   Package stopwords is already up-to-date!\n",
      "[nltk_data] Downloading package punkt to\n",
      "[nltk_data]     /Users/maksimkuznetsov/nltk_data...\n",
      "[nltk_data]   Package punkt is already up-to-date!\n",
      "[nltk_data] Downloading package wordnet to\n",
      "[nltk_data]     /Users/maksimkuznetsov/nltk_data...\n",
      "[nltk_data]   Package wordnet is already up-to-date!\n",
      "[nltk_data] Downloading package omw-1.4 to\n",
      "[nltk_data]     /Users/maksimkuznetsov/nltk_data...\n",
      "[nltk_data]   Package omw-1.4 is already up-to-date!\n"
     ]
    },
    {
     "data": {
      "text/plain": [
       "True"
      ]
     },
     "execution_count": 74,
     "metadata": {},
     "output_type": "execute_result"
    }
   ],
   "execution_count": 74
  },
  {
   "metadata": {
    "ExecuteTime": {
     "end_time": "2025-03-18T16:10:56.876121Z",
     "start_time": "2025-03-18T16:10:15.895497Z"
    }
   },
   "cell_type": "code",
   "source": [
    "stopwords = set(stopwords.words('english'))\n",
    "lemmatizer = WordNetLemmatizer()\n",
    "\n",
    "def preprocess_text(text):\n",
    "    text = list(filter(str.isalpha, word_tokenize(text.lower())))\n",
    "    text = list(lemmatizer.lemmatize(token) for token in text)\n",
    "    text = list(word for word in text if word not in stopwords)\n",
    "    return ' '.join(text)\n",
    "train_set_prepor = [preprocess_text(seq) for seq in train_set]\n",
    "test_set_prepor = [preprocess_text(seq) for seq in test_set]"
   ],
   "id": "5dc98350e962ec5e",
   "outputs": [],
   "execution_count": 75
  },
  {
   "metadata": {
    "ExecuteTime": {
     "end_time": "2025-03-18T16:11:01.059862Z",
     "start_time": "2025-03-18T16:11:01.051931Z"
    }
   },
   "cell_type": "code",
   "source": "train_set_prepor[100]",
   "id": "49ca2908084ef865",
   "outputs": [
    {
     "data": {
      "text/plain": [
       "'start great fan david lynch everything made dvd except hotel room hour twin peak movie found immediately grabbed bunch crudely drawn black white cartoon loud foul mouthed unfunny maybe know good maybe bunch crap wa foisted public name david lynch make buck let make clear care foul language part keep adjusting sound neighbor might highly disappointing release may well left deluxe box set curiosity highly recommend spend money'"
      ]
     },
     "execution_count": 76,
     "metadata": {},
     "output_type": "execute_result"
    }
   ],
   "execution_count": 76
  },
  {
   "metadata": {},
   "cell_type": "markdown",
   "source": "Напишем baseline с log_reg для дальнейшего сравнения ",
   "id": "4e8c29d7a9a1aed1"
  },
  {
   "metadata": {
    "ExecuteTime": {
     "end_time": "2025-03-17T19:07:13.642232Z",
     "start_time": "2025-03-17T19:07:13.638398Z"
    }
   },
   "cell_type": "code",
   "source": [
    "from sklearn.feature_extraction.text import TfidfVectorizer\n",
    "from sklearn.linear_model import LogisticRegression\n",
    "from sklearn.metrics import accuracy_score"
   ],
   "id": "b681c6b4e203178f",
   "outputs": [],
   "execution_count": 32
  },
  {
   "metadata": {
    "ExecuteTime": {
     "end_time": "2025-03-17T19:07:41.350576Z",
     "start_time": "2025-03-17T19:07:38.229727Z"
    }
   },
   "cell_type": "code",
   "source": [
    "tf_idf = TfidfVectorizer().fit(train_set_prepor)\n",
    "train_baseline = tf_idf.fit_transform(train_set_prepor)\n",
    "test_baseline = tf_idf.transform(test_set_prepor)"
   ],
   "id": "2dc5ff9cfcd45f03",
   "outputs": [],
   "execution_count": 34
  },
  {
   "metadata": {
    "ExecuteTime": {
     "end_time": "2025-03-17T19:12:50.686243Z",
     "start_time": "2025-03-17T19:12:49.453354Z"
    }
   },
   "cell_type": "code",
   "source": "log_reg = LogisticRegression(n_jobs=-1).fit(train_baseline, training_targets)",
   "id": "99c80a7fb846acd1",
   "outputs": [],
   "execution_count": 35
  },
  {
   "metadata": {
    "ExecuteTime": {
     "end_time": "2025-03-17T19:12:52.108105Z",
     "start_time": "2025-03-17T19:12:52.087442Z"
    }
   },
   "cell_type": "code",
   "outputs": [
    {
     "name": "stdout",
     "output_type": "stream",
     "text": [
      "Train acc:  0.93084\n",
      "Test acc:  0.88048\n"
     ]
    }
   ],
   "execution_count": 36,
   "source": [
    "print('Train acc: ', accuracy_score(training_targets, log_reg.predict(train_baseline)))\n",
    "print('Test acc: ', accuracy_score(testing_targets, log_reg.predict(test_baseline)))"
   ],
   "id": "b3d722ceb4747574"
  },
  {
   "metadata": {
    "ExecuteTime": {
     "end_time": "2025-03-18T16:19:13.327079Z",
     "start_time": "2025-03-18T16:19:11.871593Z"
    }
   },
   "cell_type": "code",
   "source": [
    "from torchtext.vocab import build_vocab_from_iterator\n",
    "def dataset_it(text):\n",
    "    for parts in text:\n",
    "        yield parts.split()\n",
    "vocab = build_vocab_from_iterator(dataset_it(train_set), specials = ['<pad>', '<unk>'], min_freq = 10)\n"
   ],
   "id": "185442b6200fac13",
   "outputs": [
    {
     "name": "stdout",
     "output_type": "stream",
     "text": [
      "Vocab()\n"
     ]
    }
   ],
   "execution_count": 82
  },
  {
   "metadata": {
    "ExecuteTime": {
     "end_time": "2025-03-18T16:19:21.942131Z",
     "start_time": "2025-03-18T16:19:14.590805Z"
    }
   },
   "cell_type": "code",
   "source": [
    "train_tokens = []\n",
    "for text in dataset_it(train_set):\n",
    "    tokens = [vocab[word] if word in vocab else vocab['<unk>'] for word in text]\n",
    "    train_tokens += [tokens]\n",
    "\n",
    "test_tokens = []\n",
    "for text in dataset_it(test_set):\n",
    "    tokens = [vocab[word] if word in vocab else vocab['<unk>'] for word in text]\n",
    "    test_tokens += [tokens]"
   ],
   "id": "34f71ca96eb98b75",
   "outputs": [],
   "execution_count": 83
  },
  {
   "metadata": {
    "ExecuteTime": {
     "end_time": "2025-03-18T16:27:19.414439Z",
     "start_time": "2025-03-18T16:27:18.671033Z"
    }
   },
   "cell_type": "code",
   "source": [
    "size = np.array([len(parts) for parts in train_tokens])\n",
    "sns.displot(size)\n",
    "plt.show()"
   ],
   "id": "b036fce539d672d7",
   "outputs": [
    {
     "data": {
      "text/plain": [
       "<Figure size 500x500 with 1 Axes>"
      ],
      "image/png": "[encoded data removed]"
     },
     "metadata": {},
     "output_type": "display_data"
    }
   ],
   "execution_count": 86
  },
  {
   "metadata": {
    "ExecuteTime": {
     "end_time": "2025-03-18T19:07:03.605797Z",
     "start_time": "2025-03-18T19:07:02.710994Z"
    }
   },
   "cell_type": "code",
   "source": [
    "max_len = 256\n",
    "train_tokens_tensor = torch.full((len(train_tokens), max_len), vocab['<pad>'], dtype=torch.int32)\n",
    "for i, tokens in enumerate(train_tokens_tensor):\n",
    "    length = min(max_len, len(tokens))\n",
    "    train_tokens_tensor[i, :length] = torch.tensor(tokens[:length])\n",
    "    \n",
    "test_tokens_tensor = torch.full((len(test_tokens), max_len), vocab['<pad>'], dtype=torch.int32)\n",
    "for i, tokens in enumerate(test_tokens_tensor):\n",
    "    length = min(max_len, len(tokens))\n",
    "    test_tokens_tensor[i, :length] = torch.tensor(tokens[:length])"
   ],
   "id": "c21506a4355a26fa",
   "outputs": [
    {
     "name": "stderr",
     "output_type": "stream",
     "text": [
      "/var/folders/th/qmhb2jks46j3dlyv_krx10ww0000gn/T/ipykernel_79708/3773454868.py:5: UserWarning: To copy construct from a tensor, it is recommended to use sourceTensor.clone().detach() or sourceTensor.clone().detach().requires_grad_(True), rather than torch.tensor(sourceTensor).\n",
      "  train_tokens_tensor[i, :length] = torch.tensor(tokens[:length])\n",
      "/var/folders/th/qmhb2jks46j3dlyv_krx10ww0000gn/T/ipykernel_79708/3773454868.py:10: UserWarning: To copy construct from a tensor, it is recommended to use sourceTensor.clone().detach() or sourceTensor.clone().detach().requires_grad_(True), rather than torch.tensor(sourceTensor).\n",
      "  test_tokens_tensor[i, :length] = torch.tensor(tokens[:length])\n"
     ]
    }
   ],
   "execution_count": 88
  },
  {
   "metadata": {
    "ExecuteTime": {
     "end_time": "2025-03-18T19:07:07.180848Z",
     "start_time": "2025-03-18T19:07:07.175730Z"
    }
   },
   "cell_type": "code",
   "source": [
    "training_targets_tensor = torch.tensor(training_targets, dtype=torch.int32)\n",
    "test_targets_tensor = torch.tensor(testing_targets, dtype=torch.int32)"
   ],
   "id": "68040e33b34d5300",
   "outputs": [],
   "execution_count": 89
  },
  {
   "metadata": {},
   "cell_type": "code",
   "outputs": [],
   "execution_count": null,
   "source": [
    "from torch.utils.data import TensorDataset, DataLoader\n",
    "\n",
    "train_dataset = TensorDataset(train_tokens_tensor, training_targets_tensor)\n",
    "test_dataset = TensorDataset(test_tokens_tensor, test_targets_tensor)\n",
    "\n",
    "batch_size = 256\n",
    "train_loader = DataLoader(train_dataset, batch_size=batch_size)\n",
    "test_loader = DataLoader(test_dataset, batch_size=batch_size)"
   ],
   "id": "18943593f41e278b"
  },
  {
   "metadata": {},
   "cell_type": "markdown",
   "source": "Теперь архитектура",
   "id": "309e5741ae1ae1a1"
  },
  {
   "metadata": {},
   "cell_type": "code",
   "outputs": [],
   "execution_count": null,
   "source": [
    "import torch.nn as nn\n",
    "import math\n",
    "\n",
    "class PositionalEncoder(nn.Module):\n",
    "    def __init__(self, max_len, embedding_dim, dropout):\n",
    "        super().__init__()\n",
    "        self.pos_features = np.zeros((max_len, embedding_dim))\n",
    "        positions = torch.arange(0, max_len, dtype=torch.float).unsqueeze(1)\n",
    "        freqs = torch.exp(torch.arange(0, embedding_dim, 2, dtype=torch.float) * \\\n",
    "                          (-math.log(10000) / embedding_dim)).unsqueeze(0)\n",
    "        args = positions * freqs\n",
    "        self.pos_features[:, 0::2] = torch.sin(args)\n",
    "        self.pos_features[:, 1::2] = torch.cos(args)\n",
    "        self.pos_features = self.pos_features.unsqueeze(0)\n",
    "        self.pos_features = nn.Parameter(self.pos_features, requires_grad=False)\n",
    "        \n",
    "        self.dropout = nn.Dropout(dropout)\n",
    "        \n",
    "    def forward(self, x):\n",
    "        outputs = x + self.pos_features[:, :x.shape[1]]\n",
    "        return self.dropout(outputs)\n",
    "        "
   ],
   "id": "6fbc9c1514e71291"
  },
  {
   "metadata": {},
   "cell_type": "code",
   "outputs": [],
   "execution_count": null,
   "source": [
    "class Attention(nn.Module):\n",
    "    def __init__(self, embedding_dim, num_heads, dropout):\n",
    "        super().__init__()\n",
    "        attention_dim = embedding_dim // num_heads\n",
    "        \n",
    "        self.WQ = nn.Linear(embedding_dim, attention_dim, bias=False)\n",
    "        self.WK = nn.Linear(embedding_dim, attention_dim, bias=False)\n",
    "        self.WV = nn.Linear(embedding_dim, attention_dim, bias=False)\n",
    "        self.dropout = nn.Dropout(dropout)\n",
    "        \n",
    "    def forward(self, query, keys, value, mask=None):\n",
    "        Q = self.WQ(query)\n",
    "        K = self.WK(keys)\n",
    "        V = self.WV(value)\n",
    "        \n",
    "        norm_factor = math.sqrt(Q.shape[-1]) # Для корректной работы softmax\n",
    "        dot_products = torch.bmm(Q, K.transpose(1, 2)) / norm_factor # Для каждого батча\n",
    "\n",
    "        if mask is not None: # Маскируем если надо для декодера\n",
    "            dot_products = dot_products.masked_fill(mask, -math.inf)\n",
    "\n",
    "        attention_score = nn.functional.softmax(dot_products, dim=-1) # Считаем значимость остальных эмбеддов для данного\n",
    "        attention = torch.bmm(self.dropout(attention_score), V) # Создаём более информативные эмбедды\n",
    "\n",
    "        return attention, attention_score "
   ],
   "id": "d7e1f1c0d8d7ff0c"
  },
  {
   "metadata": {},
   "cell_type": "code",
   "outputs": [],
   "execution_count": null,
   "source": [
    "class MultiHeadAttention(nn.Module):\n",
    "    def __init__(self, embedding_dim, num_heads, dropout):\n",
    "        super(MultiHeadAttention, self).__init__()\n",
    "        \n",
    "        assert embedding_dim % num_heads == 0 # Проверка для выхода\n",
    "        self.attention_heads = nn.ModuleList([Attention(embedding_dim, num_heads, dropout) for _ in range(num_heads)])\n",
    "\n",
    "        self.linear = nn.Linear(embedding_dim, embedding_dim, bias=False) # forward слой\n",
    "        self.dropout = nn.Dropout(dropout)\n",
    "\n",
    "    def forward(self, query, key, value, mask=None):\n",
    "        attentions, attention_scores = [], []\n",
    "\n",
    "        for head in self.attention_heads: # Копим скоры\n",
    "            attention, attention_score = head(query, key, value, mask)\n",
    "            attentions += [attention]\n",
    "            attention_scores += [attention_score]\n",
    "        # Складываем результаты\n",
    "        attentions = torch.cat(attentions, dim=-1)\n",
    "        attention_scores = torch.stack(attention_scores, dim=-1)\n",
    "\n",
    "        outputs = self.linear(attentions)\n",
    "        outputs = self.dropout(outputs)\n",
    "\n",
    "        return outputs, attention_scores"
   ],
   "id": "c09c8e20494cc91a"
  },
  {
   "metadata": {},
   "cell_type": "code",
   "outputs": [],
   "execution_count": null,
   "source": [
    "def create_padding_mask(tokens, pad_idx=vocab['<pad>']):\n",
    "    length = tokens.shape[-1]\n",
    "    padding_mask = (tokens == pad_idx)\n",
    "    padding_mask = padding_mask.unsqueeze(1).repeat(1, length, 1)\n",
    "\n",
    "    return padding_mask"
   ],
   "id": "65cbf5c761b05f18"
  },
  {
   "metadata": {},
   "cell_type": "code",
   "outputs": [],
   "execution_count": null,
   "source": [
    "class TransformerLayer(nn.Module):\n",
    "    def __init__(self, embed_dim, fc_dim, num_heads, dropout):\n",
    "        super().__init__()\n",
    "        self.self_attention = MultiHeadAttention(embed_dim, num_heads, dropout)\n",
    "        self.feedforward = nn.Sequential(\n",
    "            nn.Linear(embed_dim, fc_dim),\n",
    "            nn.ReLU(),\n",
    "            nn.Dropout(dropout),\n",
    "            nn.Linear(fc_dim, embed_dim),\n",
    "            nn.Dropout(dropout)\n",
    "        )\n",
    "        self.norm1 = nn.LayerNorm(embed_dim)\n",
    "        self.norm2 = nn.LayerNorm(embed_dim)\n",
    "\n",
    "    def forward(self, inputs, mask):\n",
    "        attention, attention_score = self.self_attention(query=inputs, key=inputs, \n",
    "                                                         value=inputs, mask=mask)\n",
    "        outputs = inputs + attention\n",
    "        outputs = self.norm1(outputs)\n",
    "        outputs = outputs + self.feedforward(outputs)\n",
    "        outputs = self.norm2(outputs)\n",
    "        return outputs, attention_score\n",
    "    \n",
    "class Transformer(nn.Module):\n",
    "    def __init__(self, vocab_size, max_length, num_classes,\n",
    "                 embed_dim, fc_dim, num_heads, num_layers, dropout):\n",
    "        super().__init__()\n",
    "        self.embed_dim = embed_dim\n",
    "        self.embedding = nn.Embedding(vocab_size, embed_dim)\n",
    "        self.pos_encoder = PositionalEncoder(max_length, embed_dim, dropout)\n",
    "        self.layers = nn.ModuleList([TransformerLayer(embed_dim, fc_dim, num_heads, dropout) \\\n",
    "                                     for _ in range(num_layers)])\n",
    "        self.classifier = nn.Linear(embed_dim, num_classes)\n",
    "\n",
    "    def forward(self, tokens):\n",
    "        embeds = self.embedding(tokens) * math.sqrt(self.embed_dim)\n",
    "        outputs = self.pos_encoder(embeds)\n",
    "\n",
    "        padding_mask = create_padding_mask(tokens)\n",
    "        attention_scores = []\n",
    "        for layer in self.layers:\n",
    "            outputs, attention_score = layer(outputs, padding_mask)\n",
    "            attention_scores += [attention_score]\n",
    "        attention_scores = torch.stack(attention_scores, dim=-1)\n",
    "\n",
    "        mask = (tokens != vocab['']).to(torch.float).detach()\n",
    "        lengths = mask.sum(dim=1).detach()\n",
    "        outputs = (outputs * mask.unsqueeze(2)).sum(dim=1) / lengths.unsqueeze(1)\n",
    "\n",
    "        logits = self.classifier(outputs)\n",
    "\n",
    "        return logits, attention_scores"
   ],
   "id": "a8747416d0b70249"
  }
 ],
 "metadata": {
  "kernelspec": {
   "display_name": "Python 3",
   "language": "python",
   "name": "python3"
  },
  "language_info": {
   "codemirror_mode": {
    "name": "ipython",
    "version": 2
   },
   "file_extension": ".py",
   "mimetype": "text/x-python",
   "name": "python",
   "nbconvert_exporter": "python",
   "pygments_lexer": "ipython2",
   "version": "2.7.6"
  }
 },
 "nbformat": 4,
 "nbformat_minor": 5
}
